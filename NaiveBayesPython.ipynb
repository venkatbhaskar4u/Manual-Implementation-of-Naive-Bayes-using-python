{
 "cells": [
  {
   "cell_type": "code",
   "execution_count": 19,
   "id": "d7e7ece2",
   "metadata": {},
   "outputs": [],
   "source": [
    "import pandas as pd\n",
    "import numpy as np"
   ]
  },
  {
   "cell_type": "code",
   "execution_count": 20,
   "id": "b4a7584b",
   "metadata": {},
   "outputs": [
    {
     "data": {
      "text/html": [
       "<div>\n",
       "<style scoped>\n",
       "    .dataframe tbody tr th:only-of-type {\n",
       "        vertical-align: middle;\n",
       "    }\n",
       "\n",
       "    .dataframe tbody tr th {\n",
       "        vertical-align: top;\n",
       "    }\n",
       "\n",
       "    .dataframe thead th {\n",
       "        text-align: right;\n",
       "    }\n",
       "</style>\n",
       "<table border=\"1\" class=\"dataframe\">\n",
       "  <thead>\n",
       "    <tr style=\"text-align: right;\">\n",
       "      <th></th>\n",
       "      <th>source</th>\n",
       "      <th>whiteListedIP</th>\n",
       "      <th>packetSize</th>\n",
       "      <th>appType</th>\n",
       "      <th>malicious</th>\n",
       "    </tr>\n",
       "  </thead>\n",
       "  <tbody>\n",
       "    <tr>\n",
       "      <th>0</th>\n",
       "      <td>Asia</td>\n",
       "      <td>Yes</td>\n",
       "      <td>Small</td>\n",
       "      <td>HTTP</td>\n",
       "      <td>Yes</td>\n",
       "    </tr>\n",
       "    <tr>\n",
       "      <th>1</th>\n",
       "      <td>Asia</td>\n",
       "      <td>Yes</td>\n",
       "      <td>Large</td>\n",
       "      <td>FTP</td>\n",
       "      <td>Yes</td>\n",
       "    </tr>\n",
       "    <tr>\n",
       "      <th>2</th>\n",
       "      <td>Asia</td>\n",
       "      <td>No</td>\n",
       "      <td>Small</td>\n",
       "      <td>HTTP</td>\n",
       "      <td>No</td>\n",
       "    </tr>\n",
       "    <tr>\n",
       "      <th>3</th>\n",
       "      <td>Asia</td>\n",
       "      <td>Yes</td>\n",
       "      <td>Small</td>\n",
       "      <td>HTTP</td>\n",
       "      <td>Yes</td>\n",
       "    </tr>\n",
       "    <tr>\n",
       "      <th>4</th>\n",
       "      <td>Asia</td>\n",
       "      <td>No</td>\n",
       "      <td>Medium</td>\n",
       "      <td>HTTP</td>\n",
       "      <td>No</td>\n",
       "    </tr>\n",
       "    <tr>\n",
       "      <th>5</th>\n",
       "      <td>Asia</td>\n",
       "      <td>No</td>\n",
       "      <td>Medium</td>\n",
       "      <td>HTTP</td>\n",
       "      <td>Yes</td>\n",
       "    </tr>\n",
       "    <tr>\n",
       "      <th>6</th>\n",
       "      <td>US</td>\n",
       "      <td>Yes</td>\n",
       "      <td>Large</td>\n",
       "      <td>FTP</td>\n",
       "      <td>No</td>\n",
       "    </tr>\n",
       "    <tr>\n",
       "      <th>7</th>\n",
       "      <td>US</td>\n",
       "      <td>No</td>\n",
       "      <td>Medium</td>\n",
       "      <td>HTTP</td>\n",
       "      <td>No</td>\n",
       "    </tr>\n",
       "    <tr>\n",
       "      <th>8</th>\n",
       "      <td>US</td>\n",
       "      <td>No</td>\n",
       "      <td>Medium</td>\n",
       "      <td>HTTP</td>\n",
       "      <td>No</td>\n",
       "    </tr>\n",
       "  </tbody>\n",
       "</table>\n",
       "</div>"
      ],
      "text/plain": [
       "  source whiteListedIP packetSize appType malicious\n",
       "0   Asia           Yes      Small    HTTP       Yes\n",
       "1   Asia           Yes      Large     FTP       Yes\n",
       "2   Asia            No      Small    HTTP        No\n",
       "3   Asia           Yes      Small    HTTP       Yes\n",
       "4   Asia            No     Medium    HTTP        No\n",
       "5   Asia            No     Medium    HTTP       Yes\n",
       "6     US           Yes      Large     FTP        No\n",
       "7     US            No     Medium    HTTP        No\n",
       "8     US            No     Medium    HTTP        No"
      ]
     },
     "execution_count": 20,
     "metadata": {},
     "output_type": "execute_result"
    }
   ],
   "source": [
    "path=\"C:/Users/VenkatBhaskar/Downloads/New_Assignemnt_Files/DT_coding_sample_training.csv\"\n",
    "df=pd.read_csv(path,delimiter=',',header=0)\n",
    "df"
   ]
  },
  {
   "cell_type": "code",
   "execution_count": 21,
   "id": "b8d23c7f",
   "metadata": {},
   "outputs": [
    {
     "data": {
      "text/plain": [
       "0    Yes\n",
       "1    Yes\n",
       "2     No\n",
       "3    Yes\n",
       "4     No\n",
       "5    Yes\n",
       "6     No\n",
       "7     No\n",
       "8     No\n",
       "Name: malicious, dtype: object"
      ]
     },
     "execution_count": 21,
     "metadata": {},
     "output_type": "execute_result"
    }
   ],
   "source": [
    "y=df['malicious']\n",
    "y"
   ]
  },
  {
   "cell_type": "code",
   "execution_count": 22,
   "id": "6c3ef572",
   "metadata": {},
   "outputs": [
    {
     "data": {
      "text/plain": [
       "0    Yes\n",
       "1    Yes\n",
       "2     No\n",
       "3    Yes\n",
       "4     No\n",
       "5    Yes\n",
       "6     No\n",
       "7     No\n",
       "8     No\n",
       "Name: malicious, dtype: object"
      ]
     },
     "execution_count": 22,
     "metadata": {},
     "output_type": "execute_result"
    }
   ],
   "source": [
    "df['malicious']"
   ]
  },
  {
   "cell_type": "code",
   "execution_count": 23,
   "id": "2f69fa07",
   "metadata": {},
   "outputs": [
    {
     "data": {
      "text/html": [
       "<div>\n",
       "<style scoped>\n",
       "    .dataframe tbody tr th:only-of-type {\n",
       "        vertical-align: middle;\n",
       "    }\n",
       "\n",
       "    .dataframe tbody tr th {\n",
       "        vertical-align: top;\n",
       "    }\n",
       "\n",
       "    .dataframe thead th {\n",
       "        text-align: right;\n",
       "    }\n",
       "</style>\n",
       "<table border=\"1\" class=\"dataframe\">\n",
       "  <thead>\n",
       "    <tr style=\"text-align: right;\">\n",
       "      <th></th>\n",
       "      <th>source</th>\n",
       "      <th>whiteListedIP</th>\n",
       "      <th>packetSize</th>\n",
       "      <th>appType</th>\n",
       "      <th>malicious</th>\n",
       "    </tr>\n",
       "  </thead>\n",
       "  <tbody>\n",
       "    <tr>\n",
       "      <th>0</th>\n",
       "      <td>Asia</td>\n",
       "      <td>Yes</td>\n",
       "      <td>Small</td>\n",
       "      <td>HTTP</td>\n",
       "      <td>Yes</td>\n",
       "    </tr>\n",
       "    <tr>\n",
       "      <th>1</th>\n",
       "      <td>Asia</td>\n",
       "      <td>Yes</td>\n",
       "      <td>Large</td>\n",
       "      <td>FTP</td>\n",
       "      <td>Yes</td>\n",
       "    </tr>\n",
       "    <tr>\n",
       "      <th>3</th>\n",
       "      <td>Asia</td>\n",
       "      <td>Yes</td>\n",
       "      <td>Small</td>\n",
       "      <td>HTTP</td>\n",
       "      <td>Yes</td>\n",
       "    </tr>\n",
       "    <tr>\n",
       "      <th>5</th>\n",
       "      <td>Asia</td>\n",
       "      <td>No</td>\n",
       "      <td>Medium</td>\n",
       "      <td>HTTP</td>\n",
       "      <td>Yes</td>\n",
       "    </tr>\n",
       "  </tbody>\n",
       "</table>\n",
       "</div>"
      ],
      "text/plain": [
       "  source whiteListedIP packetSize appType malicious\n",
       "0   Asia           Yes      Small    HTTP       Yes\n",
       "1   Asia           Yes      Large     FTP       Yes\n",
       "3   Asia           Yes      Small    HTTP       Yes\n",
       "5   Asia            No     Medium    HTTP       Yes"
      ]
     },
     "execution_count": 23,
     "metadata": {},
     "output_type": "execute_result"
    }
   ],
   "source": [
    "df[df['malicious']=='Yes']"
   ]
  },
  {
   "cell_type": "code",
   "execution_count": 24,
   "id": "585925b9",
   "metadata": {},
   "outputs": [],
   "source": [
    "def count(data,colname,label,target):\n",
    "    condition = (data[colname] == label) & (df['malicious'] == target)\n",
    "    return len(data[condition])"
   ]
  },
  {
   "cell_type": "code",
   "execution_count": 25,
   "id": "93f94d12",
   "metadata": {},
   "outputs": [],
   "source": [
    "cYes=count(df,'malicious','Yes','Yes')\n",
    "cNo=count(df,'malicious','No','No')\n",
    "prob_Yes=cYes/len(df)\n",
    "prob_No=cNo/len(df)"
   ]
  },
  {
   "cell_type": "code",
   "execution_count": 76,
   "id": "e7db496d",
   "metadata": {},
   "outputs": [
    {
     "name": "stdout",
     "output_type": "stream",
     "text": [
      "0.4444444444444444\n",
      "0.5555555555555556\n"
     ]
    }
   ],
   "source": [
    "print(prob_Yes)\n",
    "print(prob_No)"
   ]
  },
  {
   "cell_type": "code",
   "execution_count": 27,
   "id": "605d1bac",
   "metadata": {},
   "outputs": [],
   "source": [
    "p={0:{},1:{}}"
   ]
  },
  {
   "cell_type": "code",
   "execution_count": 28,
   "id": "754cc1ed",
   "metadata": {},
   "outputs": [
    {
     "data": {
      "text/html": [
       "<div>\n",
       "<style scoped>\n",
       "    .dataframe tbody tr th:only-of-type {\n",
       "        vertical-align: middle;\n",
       "    }\n",
       "\n",
       "    .dataframe tbody tr th {\n",
       "        vertical-align: top;\n",
       "    }\n",
       "\n",
       "    .dataframe thead th {\n",
       "        text-align: right;\n",
       "    }\n",
       "</style>\n",
       "<table border=\"1\" class=\"dataframe\">\n",
       "  <thead>\n",
       "    <tr style=\"text-align: right;\">\n",
       "      <th></th>\n",
       "      <th>source</th>\n",
       "      <th>whiteListedIP</th>\n",
       "      <th>packetSize</th>\n",
       "      <th>appType</th>\n",
       "      <th>malicious</th>\n",
       "    </tr>\n",
       "  </thead>\n",
       "  <tbody>\n",
       "    <tr>\n",
       "      <th>0</th>\n",
       "      <td>Asia</td>\n",
       "      <td>Yes</td>\n",
       "      <td>Small</td>\n",
       "      <td>HTTP</td>\n",
       "      <td>Yes</td>\n",
       "    </tr>\n",
       "    <tr>\n",
       "      <th>1</th>\n",
       "      <td>Asia</td>\n",
       "      <td>Yes</td>\n",
       "      <td>Large</td>\n",
       "      <td>FTP</td>\n",
       "      <td>Yes</td>\n",
       "    </tr>\n",
       "    <tr>\n",
       "      <th>2</th>\n",
       "      <td>Asia</td>\n",
       "      <td>No</td>\n",
       "      <td>Small</td>\n",
       "      <td>HTTP</td>\n",
       "      <td>No</td>\n",
       "    </tr>\n",
       "    <tr>\n",
       "      <th>3</th>\n",
       "      <td>Asia</td>\n",
       "      <td>Yes</td>\n",
       "      <td>Small</td>\n",
       "      <td>HTTP</td>\n",
       "      <td>Yes</td>\n",
       "    </tr>\n",
       "    <tr>\n",
       "      <th>4</th>\n",
       "      <td>Asia</td>\n",
       "      <td>No</td>\n",
       "      <td>Medium</td>\n",
       "      <td>HTTP</td>\n",
       "      <td>No</td>\n",
       "    </tr>\n",
       "    <tr>\n",
       "      <th>5</th>\n",
       "      <td>Asia</td>\n",
       "      <td>No</td>\n",
       "      <td>Medium</td>\n",
       "      <td>HTTP</td>\n",
       "      <td>Yes</td>\n",
       "    </tr>\n",
       "    <tr>\n",
       "      <th>6</th>\n",
       "      <td>US</td>\n",
       "      <td>Yes</td>\n",
       "      <td>Large</td>\n",
       "      <td>FTP</td>\n",
       "      <td>No</td>\n",
       "    </tr>\n",
       "    <tr>\n",
       "      <th>7</th>\n",
       "      <td>US</td>\n",
       "      <td>No</td>\n",
       "      <td>Medium</td>\n",
       "      <td>HTTP</td>\n",
       "      <td>No</td>\n",
       "    </tr>\n",
       "    <tr>\n",
       "      <th>8</th>\n",
       "      <td>US</td>\n",
       "      <td>No</td>\n",
       "      <td>Medium</td>\n",
       "      <td>HTTP</td>\n",
       "      <td>No</td>\n",
       "    </tr>\n",
       "  </tbody>\n",
       "</table>\n",
       "</div>"
      ],
      "text/plain": [
       "  source whiteListedIP packetSize appType malicious\n",
       "0   Asia           Yes      Small    HTTP       Yes\n",
       "1   Asia           Yes      Large     FTP       Yes\n",
       "2   Asia            No      Small    HTTP        No\n",
       "3   Asia           Yes      Small    HTTP       Yes\n",
       "4   Asia            No     Medium    HTTP        No\n",
       "5   Asia            No     Medium    HTTP       Yes\n",
       "6     US           Yes      Large     FTP        No\n",
       "7     US            No     Medium    HTTP        No\n",
       "8     US            No     Medium    HTTP        No"
      ]
     },
     "execution_count": 28,
     "metadata": {},
     "output_type": "execute_result"
    }
   ],
   "source": [
    "df"
   ]
  },
  {
   "cell_type": "code",
   "execution_count": null,
   "id": "9bdc02cb",
   "metadata": {},
   "outputs": [],
   "source": [
    "300"
   ]
  },
  {
   "cell_type": "code",
   "execution_count": 29,
   "id": "c6a1274d",
   "metadata": {},
   "outputs": [
    {
     "data": {
      "text/plain": [
       "['Yes', 'Yes', 'No', 'Yes', 'No', 'Yes', 'No', 'No', 'No']"
      ]
     },
     "execution_count": 29,
     "metadata": {},
     "output_type": "execute_result"
    }
   ],
   "source": [
    "y1=y.tolist()\n",
    "y1"
   ]
  },
  {
   "cell_type": "code",
   "execution_count": 32,
   "id": "e7c68836",
   "metadata": {},
   "outputs": [
    {
     "data": {
      "text/html": [
       "<div>\n",
       "<style scoped>\n",
       "    .dataframe tbody tr th:only-of-type {\n",
       "        vertical-align: middle;\n",
       "    }\n",
       "\n",
       "    .dataframe tbody tr th {\n",
       "        vertical-align: top;\n",
       "    }\n",
       "\n",
       "    .dataframe thead th {\n",
       "        text-align: right;\n",
       "    }\n",
       "</style>\n",
       "<table border=\"1\" class=\"dataframe\">\n",
       "  <thead>\n",
       "    <tr style=\"text-align: right;\">\n",
       "      <th></th>\n",
       "      <th>source</th>\n",
       "      <th>whiteListedIP</th>\n",
       "      <th>packetSize</th>\n",
       "      <th>appType</th>\n",
       "      <th>malicious</th>\n",
       "    </tr>\n",
       "  </thead>\n",
       "  <tbody>\n",
       "    <tr>\n",
       "      <th>0</th>\n",
       "      <td>Asia</td>\n",
       "      <td>Yes</td>\n",
       "      <td>Small</td>\n",
       "      <td>HTTP</td>\n",
       "      <td>Yes</td>\n",
       "    </tr>\n",
       "    <tr>\n",
       "      <th>1</th>\n",
       "      <td>Asia</td>\n",
       "      <td>Yes</td>\n",
       "      <td>Large</td>\n",
       "      <td>FTP</td>\n",
       "      <td>Yes</td>\n",
       "    </tr>\n",
       "    <tr>\n",
       "      <th>2</th>\n",
       "      <td>Asia</td>\n",
       "      <td>No</td>\n",
       "      <td>Small</td>\n",
       "      <td>HTTP</td>\n",
       "      <td>No</td>\n",
       "    </tr>\n",
       "    <tr>\n",
       "      <th>3</th>\n",
       "      <td>Asia</td>\n",
       "      <td>Yes</td>\n",
       "      <td>Small</td>\n",
       "      <td>HTTP</td>\n",
       "      <td>Yes</td>\n",
       "    </tr>\n",
       "    <tr>\n",
       "      <th>4</th>\n",
       "      <td>Asia</td>\n",
       "      <td>No</td>\n",
       "      <td>Medium</td>\n",
       "      <td>HTTP</td>\n",
       "      <td>No</td>\n",
       "    </tr>\n",
       "    <tr>\n",
       "      <th>5</th>\n",
       "      <td>Asia</td>\n",
       "      <td>No</td>\n",
       "      <td>Medium</td>\n",
       "      <td>HTTP</td>\n",
       "      <td>Yes</td>\n",
       "    </tr>\n",
       "    <tr>\n",
       "      <th>6</th>\n",
       "      <td>US</td>\n",
       "      <td>Yes</td>\n",
       "      <td>Large</td>\n",
       "      <td>FTP</td>\n",
       "      <td>No</td>\n",
       "    </tr>\n",
       "    <tr>\n",
       "      <th>7</th>\n",
       "      <td>US</td>\n",
       "      <td>No</td>\n",
       "      <td>Medium</td>\n",
       "      <td>HTTP</td>\n",
       "      <td>No</td>\n",
       "    </tr>\n",
       "    <tr>\n",
       "      <th>8</th>\n",
       "      <td>US</td>\n",
       "      <td>No</td>\n",
       "      <td>Medium</td>\n",
       "      <td>HTTP</td>\n",
       "      <td>No</td>\n",
       "    </tr>\n",
       "  </tbody>\n",
       "</table>\n",
       "</div>"
      ],
      "text/plain": [
       "  source whiteListedIP packetSize appType malicious\n",
       "0   Asia           Yes      Small    HTTP       Yes\n",
       "1   Asia           Yes      Large     FTP       Yes\n",
       "2   Asia            No      Small    HTTP        No\n",
       "3   Asia           Yes      Small    HTTP       Yes\n",
       "4   Asia            No     Medium    HTTP        No\n",
       "5   Asia            No     Medium    HTTP       Yes\n",
       "6     US           Yes      Large     FTP        No\n",
       "7     US            No     Medium    HTTP        No\n",
       "8     US            No     Medium    HTTP        No"
      ]
     },
     "execution_count": 32,
     "metadata": {},
     "output_type": "execute_result"
    }
   ],
   "source": [
    "#df=df.drop(columns=['malicious'])\n",
    "df"
   ]
  },
  {
   "cell_type": "code",
   "execution_count": null,
   "id": "a02ee456",
   "metadata": {},
   "outputs": [],
   "source": []
  },
  {
   "cell_type": "code",
   "execution_count": 44,
   "id": "1a3945a3",
   "metadata": {},
   "outputs": [
    {
     "data": {
      "text/html": [
       "<div>\n",
       "<style scoped>\n",
       "    .dataframe tbody tr th:only-of-type {\n",
       "        vertical-align: middle;\n",
       "    }\n",
       "\n",
       "    .dataframe tbody tr th {\n",
       "        vertical-align: top;\n",
       "    }\n",
       "\n",
       "    .dataframe thead th {\n",
       "        text-align: right;\n",
       "    }\n",
       "</style>\n",
       "<table border=\"1\" class=\"dataframe\">\n",
       "  <thead>\n",
       "    <tr style=\"text-align: right;\">\n",
       "      <th></th>\n",
       "      <th>source</th>\n",
       "      <th>whiteListedIP</th>\n",
       "      <th>packetSize</th>\n",
       "      <th>appType</th>\n",
       "      <th>malicious</th>\n",
       "    </tr>\n",
       "  </thead>\n",
       "  <tbody>\n",
       "    <tr>\n",
       "      <th>0</th>\n",
       "      <td>Asia</td>\n",
       "      <td>Yes</td>\n",
       "      <td>Small</td>\n",
       "      <td>HTTP</td>\n",
       "      <td>Yes</td>\n",
       "    </tr>\n",
       "    <tr>\n",
       "      <th>1</th>\n",
       "      <td>Asia</td>\n",
       "      <td>Yes</td>\n",
       "      <td>Large</td>\n",
       "      <td>FTP</td>\n",
       "      <td>Yes</td>\n",
       "    </tr>\n",
       "    <tr>\n",
       "      <th>3</th>\n",
       "      <td>Asia</td>\n",
       "      <td>Yes</td>\n",
       "      <td>Small</td>\n",
       "      <td>HTTP</td>\n",
       "      <td>Yes</td>\n",
       "    </tr>\n",
       "    <tr>\n",
       "      <th>5</th>\n",
       "      <td>Asia</td>\n",
       "      <td>No</td>\n",
       "      <td>Medium</td>\n",
       "      <td>HTTP</td>\n",
       "      <td>Yes</td>\n",
       "    </tr>\n",
       "  </tbody>\n",
       "</table>\n",
       "</div>"
      ],
      "text/plain": [
       "  source whiteListedIP packetSize appType malicious\n",
       "0   Asia           Yes      Small    HTTP       Yes\n",
       "1   Asia           Yes      Large     FTP       Yes\n",
       "3   Asia           Yes      Small    HTTP       Yes\n",
       "5   Asia            No     Medium    HTTP       Yes"
      ]
     },
     "execution_count": 44,
     "metadata": {},
     "output_type": "execute_result"
    }
   ],
   "source": [
    "df_Yes=df[df['malicious']=='Yes']\n",
    "df_Yes"
   ]
  },
  {
   "cell_type": "code",
   "execution_count": 106,
   "id": "c8dc38f7",
   "metadata": {},
   "outputs": [],
   "source": [
    "df1=df[df['source']=='Asia']"
   ]
  },
  {
   "cell_type": "code",
   "execution_count": 107,
   "id": "fadb82f3",
   "metadata": {},
   "outputs": [
    {
     "data": {
      "text/html": [
       "<div>\n",
       "<style scoped>\n",
       "    .dataframe tbody tr th:only-of-type {\n",
       "        vertical-align: middle;\n",
       "    }\n",
       "\n",
       "    .dataframe tbody tr th {\n",
       "        vertical-align: top;\n",
       "    }\n",
       "\n",
       "    .dataframe thead th {\n",
       "        text-align: right;\n",
       "    }\n",
       "</style>\n",
       "<table border=\"1\" class=\"dataframe\">\n",
       "  <thead>\n",
       "    <tr style=\"text-align: right;\">\n",
       "      <th></th>\n",
       "      <th>source</th>\n",
       "      <th>whiteListedIP</th>\n",
       "      <th>packetSize</th>\n",
       "      <th>appType</th>\n",
       "      <th>malicious</th>\n",
       "    </tr>\n",
       "  </thead>\n",
       "  <tbody>\n",
       "    <tr>\n",
       "      <th>0</th>\n",
       "      <td>Asia</td>\n",
       "      <td>Yes</td>\n",
       "      <td>Small</td>\n",
       "      <td>HTTP</td>\n",
       "      <td>Yes</td>\n",
       "    </tr>\n",
       "    <tr>\n",
       "      <th>1</th>\n",
       "      <td>Asia</td>\n",
       "      <td>Yes</td>\n",
       "      <td>Large</td>\n",
       "      <td>FTP</td>\n",
       "      <td>Yes</td>\n",
       "    </tr>\n",
       "    <tr>\n",
       "      <th>2</th>\n",
       "      <td>Asia</td>\n",
       "      <td>No</td>\n",
       "      <td>Small</td>\n",
       "      <td>HTTP</td>\n",
       "      <td>No</td>\n",
       "    </tr>\n",
       "    <tr>\n",
       "      <th>3</th>\n",
       "      <td>Asia</td>\n",
       "      <td>Yes</td>\n",
       "      <td>Small</td>\n",
       "      <td>HTTP</td>\n",
       "      <td>Yes</td>\n",
       "    </tr>\n",
       "    <tr>\n",
       "      <th>4</th>\n",
       "      <td>Asia</td>\n",
       "      <td>No</td>\n",
       "      <td>Medium</td>\n",
       "      <td>HTTP</td>\n",
       "      <td>No</td>\n",
       "    </tr>\n",
       "    <tr>\n",
       "      <th>5</th>\n",
       "      <td>Asia</td>\n",
       "      <td>No</td>\n",
       "      <td>Medium</td>\n",
       "      <td>HTTP</td>\n",
       "      <td>Yes</td>\n",
       "    </tr>\n",
       "  </tbody>\n",
       "</table>\n",
       "</div>"
      ],
      "text/plain": [
       "  source whiteListedIP packetSize appType malicious\n",
       "0   Asia           Yes      Small    HTTP       Yes\n",
       "1   Asia           Yes      Large     FTP       Yes\n",
       "2   Asia            No      Small    HTTP        No\n",
       "3   Asia           Yes      Small    HTTP       Yes\n",
       "4   Asia            No     Medium    HTTP        No\n",
       "5   Asia            No     Medium    HTTP       Yes"
      ]
     },
     "execution_count": 107,
     "metadata": {},
     "output_type": "execute_result"
    }
   ],
   "source": [
    "df1"
   ]
  },
  {
   "cell_type": "code",
   "execution_count": 46,
   "id": "ffc51f98",
   "metadata": {},
   "outputs": [
    {
     "data": {
      "text/plain": [
       "defaultdict(int,\n",
       "            {'Asia': 4,\n",
       "             'Yes': 3,\n",
       "             'No': 1,\n",
       "             'Small': 2,\n",
       "             'Large': 1,\n",
       "             'Medium': 1,\n",
       "             'HTTP': 3,\n",
       "             'FTP': 1})"
      ]
     },
     "execution_count": 46,
     "metadata": {},
     "output_type": "execute_result"
    }
   ],
   "source": [
    "from collections import Counter\n",
    "from collections import defaultdict\n",
    "c=defaultdict(int)\n",
    "for i in df_Yes.iloc[:,:-1].columns:\n",
    "    for j in df_Yes[i]:\n",
    "        c[j]+=1\n",
    "c"
   ]
  },
  {
   "cell_type": "code",
   "execution_count": 115,
   "id": "3542b8e3",
   "metadata": {},
   "outputs": [
    {
     "data": {
      "text/plain": [
       "0.4444444444444444"
      ]
     },
     "execution_count": 115,
     "metadata": {},
     "output_type": "execute_result"
    }
   ],
   "source": [
    "a=len(df_Yes[df_Yes['source']=='Asia'])/len(df)\n",
    "a"
   ]
  },
  {
   "cell_type": "code",
   "execution_count": 118,
   "id": "05075182",
   "metadata": {},
   "outputs": [
    {
     "data": {
      "text/plain": [
       "0.1111111111111111"
      ]
     },
     "execution_count": 118,
     "metadata": {},
     "output_type": "execute_result"
    }
   ],
   "source": [
    "b=len(df_Yes[df_Yes['whiteListedIP']=='No'])/len(df)\n",
    "b"
   ]
  },
  {
   "cell_type": "code",
   "execution_count": 121,
   "id": "f994d0f6",
   "metadata": {},
   "outputs": [
    {
     "data": {
      "text/plain": [
       "0.4444444444444444"
      ]
     },
     "execution_count": 121,
     "metadata": {},
     "output_type": "execute_result"
    }
   ],
   "source": [
    "len(df_Yes)/len(df)"
   ]
  },
  {
   "cell_type": "code",
   "execution_count": 119,
   "id": "89c91702",
   "metadata": {},
   "outputs": [
    {
     "data": {
      "text/plain": [
       "0.3333333333333333"
      ]
     },
     "execution_count": 119,
     "metadata": {},
     "output_type": "execute_result"
    }
   ],
   "source": [
    "c=len(df_Yes[df_Yes['appType']=='HTTP'])/len(df)\n",
    "c"
   ]
  },
  {
   "cell_type": "code",
   "execution_count": 124,
   "id": "c8b81c1a",
   "metadata": {},
   "outputs": [
    {
     "data": {
      "text/plain": [
       "0.6666666666666666"
      ]
     },
     "execution_count": 124,
     "metadata": {},
     "output_type": "execute_result"
    }
   ],
   "source": [
    "len(df[df['source']=='Asia'])/len(df)"
   ]
  },
  {
   "cell_type": "code",
   "execution_count": 126,
   "id": "8e94339d",
   "metadata": {},
   "outputs": [
    {
     "data": {
      "text/plain": [
       "0.5555555555555556"
      ]
     },
     "execution_count": 126,
     "metadata": {},
     "output_type": "execute_result"
    }
   ],
   "source": [
    "len(df[df['whiteListedIP']=='No'])/len(df)"
   ]
  },
  {
   "cell_type": "code",
   "execution_count": 127,
   "id": "ecfbf934",
   "metadata": {},
   "outputs": [
    {
     "data": {
      "text/plain": [
       "0.7777777777777778"
      ]
     },
     "execution_count": 127,
     "metadata": {},
     "output_type": "execute_result"
    }
   ],
   "source": [
    "len(df[df['appType']=='HTTP'])/len(df)"
   ]
  },
  {
   "cell_type": "code",
   "execution_count": null,
   "id": "0e65c1cb",
   "metadata": {},
   "outputs": [],
   "source": []
  },
  {
   "cell_type": "code",
   "execution_count": 83,
   "id": "5ff2f183",
   "metadata": {},
   "outputs": [
    {
     "data": {
      "text/plain": [
       "{'Asia': 0.4444,\n",
       " 'Yes': 0.3333,\n",
       " 'No': 0.1111,\n",
       " 'Small': 0.2222,\n",
       " 'Large': 0.1111,\n",
       " 'Medium': 0.1111,\n",
       " 'HTTP': 0.3333,\n",
       " 'FTP': 0.1111}"
      ]
     },
     "execution_count": 83,
     "metadata": {},
     "output_type": "execute_result"
    }
   ],
   "source": [
    "prob_yes={}\n",
    "for k,v in c.items():\n",
    "    prob_yes[k]=np.round(v/len(df),4)\n",
    "prob_yes"
   ]
  },
  {
   "cell_type": "code",
   "execution_count": 109,
   "id": "3199828a",
   "metadata": {},
   "outputs": [
    {
     "data": {
      "text/plain": [
       "0.1111111111111111"
      ]
     },
     "execution_count": 109,
     "metadata": {},
     "output_type": "execute_result"
    }
   ],
   "source": [
    "1/9"
   ]
  },
  {
   "cell_type": "code",
   "execution_count": 73,
   "id": "8b0288d1",
   "metadata": {},
   "outputs": [
    {
     "data": {
      "text/plain": [
       "defaultdict(int,\n",
       "            {'Asia': 2,\n",
       "             'US': 3,\n",
       "             'No': 4,\n",
       "             'Yes': 1,\n",
       "             'Small': 1,\n",
       "             'Medium': 3,\n",
       "             'Large': 1,\n",
       "             'HTTP': 4,\n",
       "             'FTP': 1})"
      ]
     },
     "execution_count": 73,
     "metadata": {},
     "output_type": "execute_result"
    }
   ],
   "source": [
    "df_No=df[df['malicious']=='No']\n",
    "d=defaultdict(int)\n",
    "for i in df_No.iloc[:,:-1].columns:\n",
    "    for j in df_No[i]:\n",
    "        d[j]+=1\n",
    "d"
   ]
  },
  {
   "cell_type": "code",
   "execution_count": 91,
   "id": "03e2e3e3",
   "metadata": {},
   "outputs": [
    {
     "name": "stdout",
     "output_type": "stream",
     "text": [
      "{'Asia': 0.2222, 'US': 0.3333, 'No': 0.4444, 'Yes': 0.1111, 'Small': 0.1111, 'Medium': 0.3333, 'Large': 0.1111, 'HTTP': 0.4444, 'FTP': 0.1111}\n"
     ]
    },
    {
     "data": {
      "text/plain": [
       "[0.2222, 0.3333, 0.4444, 0.1111, 0.1111, 0.3333, 0.1111, 0.4444, 0.1111]"
      ]
     },
     "execution_count": 91,
     "metadata": {},
     "output_type": "execute_result"
    }
   ],
   "source": [
    "prob_no={}\n",
    "p_no=1.0\n",
    "a=[]\n",
    "for k,v in d.items():\n",
    "    prob_no[k]=np.round(v/len(df),4)\n",
    "print(prob_no)\n",
    "for i in prob_no.values():\n",
    "    a.append(i)"
   ]
  },
  {
   "cell_type": "code",
   "execution_count": 105,
   "id": "0814e564",
   "metadata": {},
   "outputs": [
    {
     "data": {
      "text/plain": [
       "1e-06"
      ]
     },
     "execution_count": 105,
     "metadata": {},
     "output_type": "execute_result"
    }
   ],
   "source": [
    "c=np.round(np.prod(a),6)\n",
    "c"
   ]
  },
  {
   "cell_type": "code",
   "execution_count": 77,
   "id": "a9d8ec25",
   "metadata": {},
   "outputs": [
    {
     "data": {
      "text/html": [
       "<div>\n",
       "<style scoped>\n",
       "    .dataframe tbody tr th:only-of-type {\n",
       "        vertical-align: middle;\n",
       "    }\n",
       "\n",
       "    .dataframe tbody tr th {\n",
       "        vertical-align: top;\n",
       "    }\n",
       "\n",
       "    .dataframe thead th {\n",
       "        text-align: right;\n",
       "    }\n",
       "</style>\n",
       "<table border=\"1\" class=\"dataframe\">\n",
       "  <thead>\n",
       "    <tr style=\"text-align: right;\">\n",
       "      <th></th>\n",
       "      <th>source</th>\n",
       "      <th>whiteListedIP</th>\n",
       "      <th>packetSize</th>\n",
       "      <th>appType</th>\n",
       "    </tr>\n",
       "  </thead>\n",
       "  <tbody>\n",
       "    <tr>\n",
       "      <th>0</th>\n",
       "      <td>Asia</td>\n",
       "      <td>Yes</td>\n",
       "      <td>Small</td>\n",
       "      <td>HTTP</td>\n",
       "    </tr>\n",
       "    <tr>\n",
       "      <th>1</th>\n",
       "      <td>Asia</td>\n",
       "      <td>Yes</td>\n",
       "      <td>Large</td>\n",
       "      <td>FTP</td>\n",
       "    </tr>\n",
       "    <tr>\n",
       "      <th>2</th>\n",
       "      <td>Asia</td>\n",
       "      <td>No</td>\n",
       "      <td>Small</td>\n",
       "      <td>HTTP</td>\n",
       "    </tr>\n",
       "    <tr>\n",
       "      <th>3</th>\n",
       "      <td>Asia</td>\n",
       "      <td>Yes</td>\n",
       "      <td>Small</td>\n",
       "      <td>HTTP</td>\n",
       "    </tr>\n",
       "    <tr>\n",
       "      <th>4</th>\n",
       "      <td>Asia</td>\n",
       "      <td>No</td>\n",
       "      <td>Medium</td>\n",
       "      <td>HTTP</td>\n",
       "    </tr>\n",
       "    <tr>\n",
       "      <th>5</th>\n",
       "      <td>Asia</td>\n",
       "      <td>No</td>\n",
       "      <td>Medium</td>\n",
       "      <td>HTTP</td>\n",
       "    </tr>\n",
       "    <tr>\n",
       "      <th>6</th>\n",
       "      <td>US</td>\n",
       "      <td>Yes</td>\n",
       "      <td>Large</td>\n",
       "      <td>FTP</td>\n",
       "    </tr>\n",
       "    <tr>\n",
       "      <th>7</th>\n",
       "      <td>US</td>\n",
       "      <td>No</td>\n",
       "      <td>Medium</td>\n",
       "      <td>HTTP</td>\n",
       "    </tr>\n",
       "    <tr>\n",
       "      <th>8</th>\n",
       "      <td>US</td>\n",
       "      <td>No</td>\n",
       "      <td>Medium</td>\n",
       "      <td>HTTP</td>\n",
       "    </tr>\n",
       "  </tbody>\n",
       "</table>\n",
       "</div>"
      ],
      "text/plain": [
       "  source whiteListedIP packetSize appType\n",
       "0   Asia           Yes      Small    HTTP\n",
       "1   Asia           Yes      Large     FTP\n",
       "2   Asia            No      Small    HTTP\n",
       "3   Asia           Yes      Small    HTTP\n",
       "4   Asia            No     Medium    HTTP\n",
       "5   Asia            No     Medium    HTTP\n",
       "6     US           Yes      Large     FTP\n",
       "7     US            No     Medium    HTTP\n",
       "8     US            No     Medium    HTTP"
      ]
     },
     "execution_count": 77,
     "metadata": {},
     "output_type": "execute_result"
    }
   ],
   "source": [
    "df1=df.iloc[:,:-1]\n",
    "df1"
   ]
  },
  {
   "cell_type": "code",
   "execution_count": 110,
   "id": "9e6a2689",
   "metadata": {},
   "outputs": [
    {
     "data": {
      "text/html": [
       "<div>\n",
       "<style scoped>\n",
       "    .dataframe tbody tr th:only-of-type {\n",
       "        vertical-align: middle;\n",
       "    }\n",
       "\n",
       "    .dataframe tbody tr th {\n",
       "        vertical-align: top;\n",
       "    }\n",
       "\n",
       "    .dataframe thead th {\n",
       "        text-align: right;\n",
       "    }\n",
       "</style>\n",
       "<table border=\"1\" class=\"dataframe\">\n",
       "  <thead>\n",
       "    <tr style=\"text-align: right;\">\n",
       "      <th></th>\n",
       "      <th>source</th>\n",
       "      <th>whiteListedIP</th>\n",
       "      <th>packetSize</th>\n",
       "      <th>appType</th>\n",
       "      <th>malicious</th>\n",
       "    </tr>\n",
       "  </thead>\n",
       "  <tbody>\n",
       "    <tr>\n",
       "      <th>0</th>\n",
       "      <td>Asia</td>\n",
       "      <td>Yes</td>\n",
       "      <td>Small</td>\n",
       "      <td>HTTP</td>\n",
       "      <td>Yes</td>\n",
       "    </tr>\n",
       "    <tr>\n",
       "      <th>1</th>\n",
       "      <td>Asia</td>\n",
       "      <td>Yes</td>\n",
       "      <td>Large</td>\n",
       "      <td>FTP</td>\n",
       "      <td>Yes</td>\n",
       "    </tr>\n",
       "    <tr>\n",
       "      <th>2</th>\n",
       "      <td>Asia</td>\n",
       "      <td>No</td>\n",
       "      <td>Small</td>\n",
       "      <td>HTTP</td>\n",
       "      <td>No</td>\n",
       "    </tr>\n",
       "    <tr>\n",
       "      <th>3</th>\n",
       "      <td>Asia</td>\n",
       "      <td>Yes</td>\n",
       "      <td>Small</td>\n",
       "      <td>HTTP</td>\n",
       "      <td>Yes</td>\n",
       "    </tr>\n",
       "    <tr>\n",
       "      <th>4</th>\n",
       "      <td>Asia</td>\n",
       "      <td>No</td>\n",
       "      <td>Medium</td>\n",
       "      <td>HTTP</td>\n",
       "      <td>No</td>\n",
       "    </tr>\n",
       "    <tr>\n",
       "      <th>5</th>\n",
       "      <td>Asia</td>\n",
       "      <td>No</td>\n",
       "      <td>Medium</td>\n",
       "      <td>HTTP</td>\n",
       "      <td>Yes</td>\n",
       "    </tr>\n",
       "  </tbody>\n",
       "</table>\n",
       "</div>"
      ],
      "text/plain": [
       "  source whiteListedIP packetSize appType malicious\n",
       "0   Asia           Yes      Small    HTTP       Yes\n",
       "1   Asia           Yes      Large     FTP       Yes\n",
       "2   Asia            No      Small    HTTP        No\n",
       "3   Asia           Yes      Small    HTTP       Yes\n",
       "4   Asia            No     Medium    HTTP        No\n",
       "5   Asia            No     Medium    HTTP       Yes"
      ]
     },
     "execution_count": 110,
     "metadata": {},
     "output_type": "execute_result"
    }
   ],
   "source": [
    "df1[df1['Asia']]"
   ]
  },
  {
   "cell_type": "code",
   "execution_count": 135,
   "id": "3aec3c7f",
   "metadata": {},
   "outputs": [
    {
     "data": {
      "text/plain": [
       "{'source': ['Asia', 'US'],\n",
       " 'whiteListedIP': ['Yes', 'No'],\n",
       " 'packetSize': ['Small', 'Large', 'Medium'],\n",
       " 'appType': ['HTTP', 'FTP'],\n",
       " 'malicious': ['Yes', 'No']}"
      ]
     },
     "execution_count": 135,
     "metadata": {},
     "output_type": "execute_result"
    }
   ],
   "source": [
    "p={}\n",
    "for i in df.columns:\n",
    "    p[i]=list(df[i].unique())\n",
    "p"
   ]
  },
  {
   "cell_type": "code",
   "execution_count": 140,
   "id": "759f992d",
   "metadata": {},
   "outputs": [
    {
     "data": {
      "text/plain": [
       "{'source': {'Asia': 6, 'US': 3},\n",
       " 'whiteListedIP': {'No': 5, 'Yes': 4},\n",
       " 'packetSize': {'Medium': 4, 'Small': 3, 'Large': 2},\n",
       " 'appType': {'HTTP': 7, 'FTP': 2},\n",
       " 'malicious': {'No': 5, 'Yes': 4}}"
      ]
     },
     "execution_count": 140,
     "metadata": {},
     "output_type": "execute_result"
    }
   ],
   "source": [
    "c={}\n",
    "for i in df.columns:\n",
    "    c[i]=dict(df[i].value_counts())\n",
    "c"
   ]
  },
  {
   "cell_type": "code",
   "execution_count": 145,
   "id": "79588f16",
   "metadata": {},
   "outputs": [
    {
     "data": {
      "text/plain": [
       "{'source': [6, 3],\n",
       " 'whiteListedIP': [5, 4],\n",
       " 'packetSize': [4, 3, 2],\n",
       " 'appType': [7, 2],\n",
       " 'malicious': [5, 4]}"
      ]
     },
     "execution_count": 145,
     "metadata": {},
     "output_type": "execute_result"
    }
   ],
   "source": [
    "t={}\n",
    "for i in df.columns:\n",
    "    t[i]=list(df[i].value_counts())\n",
    "t"
   ]
  },
  {
   "cell_type": "code",
   "execution_count": 158,
   "id": "8a8058b1",
   "metadata": {},
   "outputs": [
    {
     "data": {
      "text/plain": [
       "{'source': [0.6666666666666666, 0.3333333333333333],\n",
       " 'whiteListedIP': [0.5555555555555556, 0.4444444444444444],\n",
       " 'packetSize': [0.4444444444444444, 0.3333333333333333, 0.2222222222222222],\n",
       " 'appType': [0.7777777777777778, 0.2222222222222222],\n",
       " 'malicious': [0.5555555555555556, 0.4444444444444444]}"
      ]
     },
     "execution_count": 158,
     "metadata": {},
     "output_type": "execute_result"
    }
   ],
   "source": [
    "import math\n",
    "z={}\n",
    "for i in t:\n",
    "    c=[]\n",
    "    for j in t[i]:\n",
    "        c.append(j/9)\n",
    "    z[i]=c\n",
    "z"
   ]
  },
  {
   "cell_type": "code",
   "execution_count": 176,
   "id": "32269843",
   "metadata": {},
   "outputs": [
    {
     "data": {
      "text/plain": [
       "[-0.9182958340544896,\n",
       " -0.9910760598382222,\n",
       " -1.5304930567574824,\n",
       " -0.7642045065086203,\n",
       " -0.9910760598382222]"
      ]
     },
     "execution_count": 176,
     "metadata": {},
     "output_type": "execute_result"
    }
   ],
   "source": [
    "en=[]\n",
    "for i in z.values():\n",
    "    etr=0\n",
    "    for j in i:\n",
    "        etr+=j*math.log(j,2)\n",
    "    en.append(etr)\n",
    "en"
   ]
  },
  {
   "cell_type": "code",
   "execution_count": 186,
   "id": "c4fff76c",
   "metadata": {},
   "outputs": [
    {
     "data": {
      "text/plain": [
       "{'source': -0.9182958340544896,\n",
       " 'whiteListedIP': -0.9910760598382222,\n",
       " 'packetSize': -1.5304930567574824,\n",
       " 'appType': -0.7642045065086203,\n",
       " 'malicious': -0.9910760598382222}"
      ]
     },
     "execution_count": 186,
     "metadata": {},
     "output_type": "execute_result"
    }
   ],
   "source": [
    "a=df.columns\n",
    "d={}\n",
    "for i in range(len(a)):\n",
    "    d[a[i]]=en[i]\n",
    "d"
   ]
  },
  {
   "cell_type": "code",
   "execution_count": 184,
   "id": "3d22a6e2",
   "metadata": {},
   "outputs": [
    {
     "data": {
      "text/plain": [
       "0.4444444444444444"
      ]
     },
     "execution_count": 184,
     "metadata": {},
     "output_type": "execute_result"
    }
   ],
   "source": [
    "a"
   ]
  },
  {
   "cell_type": "code",
   "execution_count": null,
   "id": "909b8417",
   "metadata": {},
   "outputs": [],
   "source": []
  }
 ],
 "metadata": {
  "kernelspec": {
   "display_name": "Python 3 (ipykernel)",
   "language": "python",
   "name": "python3"
  },
  "language_info": {
   "codemirror_mode": {
    "name": "ipython",
    "version": 3
   },
   "file_extension": ".py",
   "mimetype": "text/x-python",
   "name": "python",
   "nbconvert_exporter": "python",
   "pygments_lexer": "ipython3",
   "version": "3.9.13"
  }
 },
 "nbformat": 4,
 "nbformat_minor": 5
}
